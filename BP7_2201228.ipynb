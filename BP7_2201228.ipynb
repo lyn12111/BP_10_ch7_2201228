{
  "nbformat": 4,
  "nbformat_minor": 0,
  "metadata": {
    "colab": {
      "provenance": [],
      "authorship_tag": "ABX9TyMfME8b+LMxWhLnfonHfzJw",
      "include_colab_link": true
    },
    "kernelspec": {
      "name": "python3",
      "display_name": "Python 3"
    },
    "language_info": {
      "name": "python"
    }
  },
  "cells": [
    {
      "cell_type": "markdown",
      "metadata": {
        "id": "view-in-github",
        "colab_type": "text"
      },
      "source": [
        "<a href=\"https://colab.research.google.com/github/lyn12111/BP_10_ch7_2201228/blob/main/BP7_2201228.ipynb\" target=\"_parent\"><img src=\"https://colab.research.google.com/assets/colab-badge.svg\" alt=\"Open In Colab\"/></a>"
      ]
    },
    {
      "cell_type": "code",
      "execution_count": null,
      "metadata": {
        "id": "CGoNOLV7554Z"
      },
      "outputs": [],
      "source": [
        "#1번 문제\n",
        "import turtle  #터틀그래픽 선언,시작\n",
        "t = turtle.Turtle() #t로 터틀그래픽 출력가능\n",
        "t.shape(\"turtle\") #화살표말고 거북이 모양으로 출력\n",
        "t.color(\"black\", \"white\") #채울 색깔을 정한다.\n",
        "s = turtle.Screen(); s.bgcolor('skyblue'); #터틀그래픽의 배경색깔을 정한다.\n",
        "\n",
        "def draw_snowman(x, y): #def는 함수를 정의하는 구간이다.\n",
        "    t.up()  #penup과 같은 함수로 붓을 드는 걸 의미한다.\n",
        "    t.goto(x, y) #x,y 좌표로 터틀그래픽이 이동한다.\n",
        "    t.down()  #pendown과 같은 함수로 붓을 다시 도화지에 닿는 걸 의미한다.\n",
        "    t.begin_fill() #채우기를 시작한다. end_fill이 나오기 전까지 그린 곳의 안쪽을 채운다.\n",
        "    t.circle(20) #반지름이 20인 원을 그린다.\n",
        "    t.end_fill() #채우기를 종료한다.\n",
        "    t.goto(x, y-25)\n",
        "    t.setheading(135) \n",
        "    t.forward(50)\n",
        "    t.backward(50) #forward는 직진을 의미하고 backward는 후진을 의미한다.\n",
        "    \n",
        "    t.setheading(30)\n",
        "    t.forward(50)\n",
        "    t.backward(50)\n",
        "    t.setheading(0)\n",
        "    \n",
        "    t.begin_fill()\n",
        "    t.circle(15)\n",
        "    t.end_fill()\n",
        "    t.goto(x, y-70)\n",
        "    t.begin_fill()\n",
        "    t.circle(30)\n",
        "    t.end_fill()\n",
        "    \n",
        "draw_snowman(0,0) #def로 정의한 함수를 출력하는 구간이다.\n",
        "draw_snowman(100,0)\n",
        "draw_snowman(200,0)"
      ]
    },
    {
      "cell_type": "code",
      "source": [
        "#2번 문제\n",
        "import turtle #터틀을 시작하는 구간이다.\n",
        "t = turtle.Turtle() #터틀을 t로 치완하여 더 쉽게 작성하도록 한다.\n",
        "t.shape(\"turtle\") #그리는 붓 모양을 거북이로 지정한다.\n",
        "t.speed(0) #그리는 속도를 지정한다.\n",
        "def hexagon(): #def는 한 구간을 함수로 정의하는 구간이다. hexagon은 육각형을 의미한다\n",
        "    for i in range(6): #헥사곤함수는 육각형을 그리는 함수로 정의 된다.\n",
        "        turtle.forward(100) #6은 여섯번 반복을 의미한다.\n",
        "        turtle.left(360/6)\n",
        "        \n",
        "for i in range (6):\n",
        "    hexagon()\n",
        "    turtle.forward(100)\n",
        "    turtle.right(60)"
      ],
      "metadata": {
        "id": "JzCFOmQJQMso"
      },
      "execution_count": null,
      "outputs": []
    },
    {
      "cell_type": "code",
      "source": [
        "#3번 문제\n",
        "import turtle #터틀그래픽을 시작한다.\n",
        "t = turtle.Turtle() #터틀그래픽을 t로 치완하여 더 쉽게 작성한다.\n",
        "t.shape(\"turtle\") #터틀그래픽의 붓모양을 거북이로 지정한다.\n",
        "t.speed(0) #그리는 속도를 지정한다.\n",
        "\n",
        "def f(x): #f(x)함수를 정의하는 구간을 설정한다.\n",
        "    return x**2+1 #return은 값을 반환하는 함수이다.\n",
        "\n",
        "t.goto(200, 0) #goto(x,y)는 지정한 좌표로 이동하게 만든다.\n",
        "t.goto(0, 0)\n",
        "t.goto(0, 200)\n",
        "t.goto(0, 0)\n",
        "\n",
        "for x in range(150): #x를 0~150 범위의 모든 값을 보여준다.\n",
        "    t.goto(x, int(0.01*f(x)))"
      ],
      "metadata": {
        "id": "az4iCx6MQRAY"
      },
      "execution_count": null,
      "outputs": []
    },
    {
      "cell_type": "code",
      "source": [
        "#4번 문제\n",
        "import turtle\n",
        "t = turtle.Turtle()\n",
        "t.shape(\"turtle\")\n",
        "t.speed(0)\n",
        "\n",
        "def draw_line(): #선을 그리는 함수를 정의하고 있다.\n",
        "    t.forward(100)\n",
        "    t.backward(100)\n",
        "    \n",
        "for x in range(12): #x를 0~12 범위의 모든 값을 보여준다.\n",
        "    t.right(30)\n",
        "    draw_line() #정의한 함수를 출력한다."
      ],
      "metadata": {
        "id": "3jNJrmHlQTFY"
      },
      "execution_count": null,
      "outputs": []
    },
    {
      "cell_type": "code",
      "source": [
        "#5번 문제\n",
        "def happyBirthday(person):    #def는 함수를 정의하는 명령어로 def 구간은 정의되어 나중에 다시 출력가능\n",
        "  print(\"Happy Birthday to you!\") \n",
        "  print(\"Happy Birthday to you!\")\n",
        "  print(\"Happy Birthday, dear \" + person) \n",
        "  print(\"Happy Birthday to you!\")\n",
        "happyBirthday(\"홍길동\")  #happybirthday로 정의한 함수를 다시 출력한다."
      ],
      "metadata": {
        "id": "fYF0MsY5QUcA",
        "colab": {
          "base_uri": "https://localhost:8080/"
        },
        "outputId": "9a6721c8-78ee-45cc-83c2-dffdd1c8adbe"
      },
      "execution_count": null,
      "outputs": [
        {
          "output_type": "stream",
          "name": "stdout",
          "text": [
            "Happy Birthday to you!\n",
            "Happy Birthday to you!\n",
            "Happy Birthday, dear 홍길동\n",
            "Happy Birthday to you!\n"
          ]
        }
      ]
    },
    {
      "cell_type": "code",
      "source": [
        "#6번 문제\n",
        "def sumProblem(x, y): #문제 함수를 정의하는 구간이다.\n",
        "  sum = x + y\n",
        "  sentence = \"정수\" + str(x) + \"+\"+str(y)+\"의 합은?\"\n",
        "  print(sentence)\n",
        "def main():  #정수 값을 받는 함수를 정의하고 위에서 정의 한 함수를 포함한다.\n",
        "  a = int(input(\"첫 번째 정수: \"))\n",
        "  b = int(input(\"두 번째 정수: \"))\n",
        "  sumProblem(a, b)\n",
        "main() #정의 한 함수를 출력함."
      ],
      "metadata": {
        "id": "YlS9bLmlQWGY",
        "colab": {
          "base_uri": "https://localhost:8080/"
        },
        "outputId": "1eb61e22-8ce2-4324-8e8b-625b52503d5f"
      },
      "execution_count": null,
      "outputs": [
        {
          "output_type": "stream",
          "name": "stdout",
          "text": [
            "첫 번째 정수: 2\n",
            "두 번째 정수: 5\n",
            "정수2+5의 합은?\n"
          ]
        }
      ]
    },
    {
      "cell_type": "code",
      "source": [
        "#7번 문제\n",
        "PI = 3.14159265358979\n",
        "def circleArea(radius):\n",
        " return PI*radius*radius\n",
        "def circleCircumference(radius):\n",
        " return 2*PI*radius\n",
        "def main():\n",
        " print('반지름이 5인 원의 면적:', circleArea(5))\n",
        " print('반지름이 5인 원의 둘레:', circleCircumference(5))\n",
        "main()"
      ],
      "metadata": {
        "id": "PuEg_68iQXiw"
      },
      "execution_count": null,
      "outputs": []
    },
    {
      "cell_type": "code",
      "source": [
        "#8번 문제\n",
        "def add(a, b): #a와 b를 더하는 문제를 정의하는 구간이다.\n",
        "  print( \"(%d + %d)\" % (a, b), end=\" \")\n",
        "  return a + b #답을 출력하는 구간\n",
        "def subtract(a, b): #a와 b를 빼는 문제\n",
        "  print (\"(%d - %d)\" % (a, b), end=\" \")\n",
        "  return a - b\n",
        "def multiply(a, b):  #a와 b를  곱하는 문제\n",
        "  print (\"(%d * %d)\" % (a, b), end=\" \")\n",
        "  return a * b\n",
        "def divide(a, b): #a와 b를 나누는 문제\n",
        "  print (\"(%d / %d)\" % (a, b), end=\" \")\n",
        "  return a / b\n",
        "what = add(20, 10) #a와 b를 입력하고 문제를 지정하는 구간\n",
        "print(\"= \", what) #문제의 값을 출력함."
      ],
      "metadata": {
        "colab": {
          "base_uri": "https://localhost:8080/"
        },
        "id": "kh7Dm0-QTrcg",
        "outputId": "817d47c8-9e84-43d4-b7d7-d74dabc5ca5b"
      },
      "execution_count": null,
      "outputs": [
        {
          "output_type": "stream",
          "name": "stdout",
          "text": [
            "(20 + 10) =  30\n"
          ]
        }
      ]
    }
  ]
}